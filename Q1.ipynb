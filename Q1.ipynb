{
 "cells": [
  {
   "cell_type": "code",
   "execution_count": 1,
   "id": "475dfb83-6f5a-485c-a1d9-80e152813738",
   "metadata": {},
   "outputs": [],
   "source": [
    "import pandas as pd\n",
    "import numpy as np\n",
    "from scipy import stats"
   ]
  },
  {
   "cell_type": "code",
   "execution_count": 6,
   "id": "1cfb7be6-c9b1-4b46-92bc-7c5c620149cc",
   "metadata": {},
   "outputs": [],
   "source": [
    "apple_data = pd.read_csv(\"AAPL.csv\")"
   ]
  },
  {
   "cell_type": "code",
   "execution_count": 7,
   "id": "aeecd80e-f154-4b4f-9bcc-3f87871b72b5",
   "metadata": {},
   "outputs": [
    {
     "name": "stdout",
     "output_type": "stream",
     "text": [
      "Dataset preview:\n",
      "          Date     Close     Volume      Open      High       Low\n",
      "0  02/28/2020   $273.36  106721200   $257.26   $278.41   $256.37\n",
      "1  02/27/2020   $273.52   80151380    $281.1      $286   $272.96\n",
      "2  02/26/2020   $292.65   49678430   $286.53   $297.88    $286.5\n",
      "3  02/25/2020   $288.08   57668360   $300.95   $302.53   $286.13\n",
      "4  02/24/2020   $298.18   55548830   $297.26   $304.18   $289.23\n"
     ]
    }
   ],
   "source": [
    "print(\"Dataset preview:\\n\", apple_data.head())"
   ]
  },
  {
   "cell_type": "code",
   "execution_count": 16,
   "id": "6d746db7-f556-43e3-84ea-be200cc4b73c",
   "metadata": {},
   "outputs": [],
   "source": [
    "apple_data[' Close'] = apple_data[' Close'].replace(r'[\\$,]', '', regex=True).astype(float)"
   ]
  },
  {
   "cell_type": "code",
   "execution_count": 17,
   "id": "723ea31e-af0a-4a2d-baf0-3066195e5768",
   "metadata": {},
   "outputs": [],
   "source": [
    "close_prices = apple_data[' Close']"
   ]
  },
  {
   "cell_type": "code",
   "execution_count": 19,
   "id": "d64ae10b-7feb-420e-b441-c28a465d4ee4",
   "metadata": {},
   "outputs": [],
   "source": [
    "mean_price = np.mean(close_prices)\n",
    "median_price = np.median(close_prices)\n",
    "mode_price = stats.mode(close_prices)[0]  # Extracting the mode value\n",
    "std_dev_price = np.std(close_prices)"
   ]
  },
  {
   "cell_type": "code",
   "execution_count": 20,
   "id": "389cdcc6-ff0b-4b61-876a-9019ad293f7b",
   "metadata": {},
   "outputs": [
    {
     "name": "stdout",
     "output_type": "stream",
     "text": [
      "\n",
      "Statistics for Apple Stock Close Prices:\n",
      "Mean: 114.76952227958698\n",
      "Median: 101.09\n",
      "Mode: 97.34\n",
      "Standard Deviation: 60.650358245724604\n"
     ]
    }
   ],
   "source": [
    "print(\"\\nStatistics for Apple Stock Close Prices:\")\n",
    "print(f\"Mean: {mean_price}\")\n",
    "print(f\"Median: {median_price}\")\n",
    "print(f\"Mode: {mode_price}\")\n",
    "print(f\"Standard Deviation: {std_dev_price}\")"
   ]
  },
  {
   "cell_type": "code",
   "execution_count": null,
   "id": "dd39463f-3b73-49d7-968d-fbd76102b323",
   "metadata": {},
   "outputs": [],
   "source": []
  }
 ],
 "metadata": {
  "kernelspec": {
   "display_name": "Python 3 (ipykernel)",
   "language": "python",
   "name": "python3"
  },
  "language_info": {
   "codemirror_mode": {
    "name": "ipython",
    "version": 3
   },
   "file_extension": ".py",
   "mimetype": "text/x-python",
   "name": "python",
   "nbconvert_exporter": "python",
   "pygments_lexer": "ipython3",
   "version": "3.12.3"
  }
 },
 "nbformat": 4,
 "nbformat_minor": 5
}
